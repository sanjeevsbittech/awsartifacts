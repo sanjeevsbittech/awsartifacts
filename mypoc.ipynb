{
  "nbformat": 4,
  "nbformat_minor": 0,
  "metadata": {
    "colab": {
      "provenance": [],
      "authorship_tag": "ABX9TyMBMjIZk4M5MDZj8bl6Ow5D",
      "include_colab_link": true
    },
    "kernelspec": {
      "name": "python3",
      "display_name": "Python 3"
    },
    "language_info": {
      "name": "python"
    }
  },
  "cells": [
    {
      "cell_type": "markdown",
      "metadata": {
        "id": "view-in-github",
        "colab_type": "text"
      },
      "source": [
        "<a href=\"https://colab.research.google.com/github/sanjeevsbittech/awsartifacts/blob/master/mypoc.ipynb\" target=\"_parent\"><img src=\"https://colab.research.google.com/assets/colab-badge.svg\" alt=\"Open In Colab\"/></a>"
      ]
    },
    {
      "cell_type": "code",
      "execution_count": null,
      "metadata": {
        "id": "Ypz7IIQqF8b-"
      },
      "outputs": [],
      "source": [
        "import tensorflow as tf\n",
        "print(tf.version)"
      ]
    },
    {
      "cell_type": "code",
      "source": [
        "str_var = tf.Variable(\"this is a string\",tf.string)\n",
        "print(str_var)\n",
        "num_var = tf.Variable(3,tf.int16)\n",
        "print(num_var)\n",
        "flt_var = tf.Variable(3.5,tf.float64)\n",
        "print(flt_var)"
      ],
      "metadata": {
        "id": "3wbqEtBdY2_A"
      },
      "execution_count": null,
      "outputs": []
    },
    {
      "cell_type": "markdown",
      "source": [
        "## Concept of Rank\n",
        "Rank is the dimension of the matrix ie. 1 for dimensional array, 2 for 2 d array"
      ],
      "metadata": {
        "id": "jQp86ng4a6KD"
      }
    },
    {
      "cell_type": "code",
      "source": [
        "array_str_rank1 = tf.Variable([\"hello\", \"world\"], tf.string)\n",
        "print(\"string\", array_str_rank1)\n",
        "print(\"RANK -> rank_one\",tf.rank( array_str_rank1))\n",
        "##rank2\n",
        "array_str_rank2 = tf.Variable([[\"hello\", \"world\"],[\"hello2\", \"world2\"]], tf.string)\n",
        "print(\"array_str_rank2 ->\", array_str_rank2)\n",
        "print(\"RANK -> array_str_rank2 ->\",tf.rank( array_str_rank2))"
      ],
      "metadata": {
        "id": "oQL4WD2tZ3Ni"
      },
      "execution_count": null,
      "outputs": []
    },
    {
      "cell_type": "code",
      "source": [],
      "metadata": {
        "id": "ck1JTjpiggbo"
      },
      "execution_count": null,
      "outputs": []
    },
    {
      "cell_type": "markdown",
      "source": [
        "Concept of Shape\n",
        "Shape is the number of elements that exist in each dimension e.g. shape of array_str_rank2 in above example is [2,2]"
      ],
      "metadata": {
        "id": "6_NzjcBae2hL"
      }
    },
    {
      "cell_type": "code",
      "source": [
        "array_str_rank3 = tf.Variable([[\"hello\", \"world\"],[\"hello2\", \"world2\"],[\"hello3\", \"world3\"]], tf.string)\n",
        "print(\"array_str_rank3 ->\", array_str_rank3)\n",
        "print(\"RANK -> array_str_rank3 ->\",tf.rank( array_str_rank3))\n",
        "print(\"SHAPE OF array_str_rank3 -> \", array_str_rank3.shape)"
      ],
      "metadata": {
        "id": "_e4vdBnccZ1s"
      },
      "execution_count": null,
      "outputs": []
    },
    {
      "cell_type": "markdown",
      "source": [
        "Concept of reshape"
      ],
      "metadata": {
        "id": "lbEsyVtAkLq6"
      }
    },
    {
      "cell_type": "code",
      "source": [
        "tensor1 = tf.ones([1,2,3])\n",
        "tensor2 = tf.reshape(tensor1,[2,3,1])\n",
        "tensor3 = tf.reshape(tensor2, [3, -1])\n",
        "print(tensor1)\n",
        "print (tensor2)\n",
        "print(tensor3)"
      ],
      "metadata": {
        "id": "wxX3XsF6kNSG"
      },
      "execution_count": null,
      "outputs": []
    },
    {
      "cell_type": "code",
      "source": [],
      "metadata": {
        "id": "eQLqOsBslpPy"
      },
      "execution_count": null,
      "outputs": []
    },
    {
      "cell_type": "code",
      "source": [],
      "metadata": {
        "id": "pMz9KCNglfeV"
      },
      "execution_count": null,
      "outputs": []
    },
    {
      "cell_type": "code",
      "source": [],
      "metadata": {
        "id": "tsccDxpClN3l"
      },
      "execution_count": null,
      "outputs": []
    },
    {
      "cell_type": "code",
      "source": [],
      "metadata": {
        "id": "WJ02VqBSk20V"
      },
      "execution_count": null,
      "outputs": []
    },
    {
      "cell_type": "code",
      "source": [],
      "metadata": {
        "id": "v-8HLEy4kyPn"
      },
      "execution_count": null,
      "outputs": []
    },
    {
      "cell_type": "code",
      "source": [],
      "metadata": {
        "id": "eBTfA-FpkXCh"
      },
      "execution_count": null,
      "outputs": []
    },
    {
      "cell_type": "code",
      "source": [],
      "metadata": {
        "id": "lSMA98dgkSTP"
      },
      "execution_count": null,
      "outputs": []
    },
    {
      "cell_type": "code",
      "source": [],
      "metadata": {
        "id": "6n4fpfhfhxAN"
      },
      "execution_count": null,
      "outputs": []
    },
    {
      "cell_type": "code",
      "source": [],
      "metadata": {
        "id": "_Kl_FvY8fXyF"
      },
      "execution_count": null,
      "outputs": []
    },
    {
      "cell_type": "code",
      "source": [],
      "metadata": {
        "id": "ezqYq3QSb5Vn"
      },
      "execution_count": null,
      "outputs": []
    },
    {
      "cell_type": "code",
      "source": [],
      "metadata": {
        "id": "5YotiL3obwaT"
      },
      "execution_count": null,
      "outputs": []
    },
    {
      "cell_type": "code",
      "source": [],
      "metadata": {
        "id": "-S9PtC2pbq9F"
      },
      "execution_count": null,
      "outputs": []
    },
    {
      "cell_type": "code",
      "source": [],
      "metadata": {
        "id": "TDBZhHBubgPo"
      },
      "execution_count": null,
      "outputs": []
    },
    {
      "cell_type": "code",
      "source": [],
      "metadata": {
        "id": "9dNPaV2nbUWL"
      },
      "execution_count": null,
      "outputs": []
    },
    {
      "cell_type": "code",
      "source": [],
      "metadata": {
        "id": "B2j808aobPtZ"
      },
      "execution_count": null,
      "outputs": []
    },
    {
      "cell_type": "code",
      "source": [],
      "metadata": {
        "id": "2CCILrKObNX5"
      },
      "execution_count": null,
      "outputs": []
    },
    {
      "cell_type": "code",
      "source": [],
      "metadata": {
        "id": "GHN7-LjcZrbb"
      },
      "execution_count": null,
      "outputs": []
    },
    {
      "cell_type": "code",
      "source": [],
      "metadata": {
        "id": "J8j-xdrKZZE9"
      },
      "execution_count": null,
      "outputs": []
    },
    {
      "cell_type": "code",
      "source": [],
      "metadata": {
        "id": "zjPCQ9i2ZUdn"
      },
      "execution_count": null,
      "outputs": []
    },
    {
      "cell_type": "code",
      "source": [],
      "metadata": {
        "id": "Q4e_UzE2ZL7E"
      },
      "execution_count": null,
      "outputs": []
    },
    {
      "cell_type": "code",
      "source": [],
      "metadata": {
        "id": "K-FnZC7fZBgm"
      },
      "execution_count": null,
      "outputs": []
    }
  ]
}