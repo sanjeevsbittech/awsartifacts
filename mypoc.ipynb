{
  "nbformat": 4,
  "nbformat_minor": 0,
  "metadata": {
    "colab": {
      "provenance": [],
      "authorship_tag": "ABX9TyMBMjIZk4M5MDZj8bl6Ow5D",
      "include_colab_link": true
    },
    "kernelspec": {
      "name": "python3",
      "display_name": "Python 3"
    },
    "language_info": {
      "name": "python"
    }
  },
  "cells": [
    {
      "cell_type": "markdown",
      "metadata": {
        "id": "view-in-github",
        "colab_type": "text"
      },
      "source": [
        "<a href=\"https://colab.research.google.com/github/sanjeevsbittech/awsartifacts/blob/master/mypoc.ipynb\" target=\"_parent\"><img src=\"https://colab.research.google.com/assets/colab-badge.svg\" alt=\"Open In Colab\"/></a>"
      ]
    },
    {
      "cell_type": "code",
      "execution_count": 44,
      "metadata": {
        "id": "Ypz7IIQqF8b-",
        "colab": {
          "base_uri": "https://localhost:8080/"
        },
        "outputId": "810f478a-32bc-4f9c-cdd4-418634e4b8a5"
      },
      "outputs": [
        {
          "output_type": "stream",
          "name": "stdout",
          "text": [
            "<module 'tensorflow._api.v2.version' from '/usr/local/lib/python3.8/dist-packages/tensorflow/_api/v2/version/__init__.py'>\n"
          ]
        }
      ],
      "source": [
        "import tensorflow as tf\n",
        "print(tf.version)"
      ]
    },
    {
      "cell_type": "code",
      "source": [
        "str_var = tf.Variable(\"this is a string\",tf.string)\n",
        "print(str_var)\n",
        "num_var = tf.Variable(3,tf.int16)\n",
        "print(num_var)\n",
        "flt_var = tf.Variable(3.5,tf.float64)\n",
        "print(flt_var)"
      ],
      "metadata": {
        "id": "3wbqEtBdY2_A",
        "outputId": "d775e0b7-6258-4504-8de3-66a57fbf6832",
        "colab": {
          "base_uri": "https://localhost:8080/"
        }
      },
      "execution_count": 45,
      "outputs": [
        {
          "output_type": "stream",
          "name": "stdout",
          "text": [
            "<tf.Variable 'Variable:0' shape=() dtype=string, numpy=b'this is a string'>\n",
            "<tf.Variable 'Variable:0' shape=() dtype=int32, numpy=3>\n",
            "<tf.Variable 'Variable:0' shape=() dtype=float32, numpy=3.5>\n"
          ]
        }
      ]
    },
    {
      "cell_type": "markdown",
      "source": [
        "## Concept of Rank\n",
        "Rank is the dimension of the matrix ie. 1 for dimensional array, 2 for 2 d array"
      ],
      "metadata": {
        "id": "jQp86ng4a6KD"
      }
    },
    {
      "cell_type": "code",
      "source": [
        "array_str_rank1 = tf.Variable([\"hello\", \"world\"], tf.string)\n",
        "print(\"string\", array_str_rank1)\n",
        "print(\"RANK -> rank_one\",tf.rank( array_str_rank1))\n",
        "##rank2\n",
        "array_str_rank2 = tf.Variable([[\"hello\", \"world\"],[\"hello2\", \"world2\"]], tf.string)\n",
        "print(\"array_str_rank2 ->\", array_str_rank2)\n",
        "print(\"RANK -> array_str_rank2 ->\",tf.rank( array_str_rank2))"
      ],
      "metadata": {
        "id": "oQL4WD2tZ3Ni",
        "outputId": "c7b79444-2699-42f0-f50e-a6955b7191d5",
        "colab": {
          "base_uri": "https://localhost:8080/"
        }
      },
      "execution_count": 46,
      "outputs": [
        {
          "output_type": "stream",
          "name": "stdout",
          "text": [
            "string <tf.Variable 'Variable:0' shape=(2,) dtype=string, numpy=array([b'hello', b'world'], dtype=object)>\n",
            "RANK -> rank_one tf.Tensor(1, shape=(), dtype=int32)\n",
            "array_str_rank2 -> <tf.Variable 'Variable:0' shape=(2, 2) dtype=string, numpy=\n",
            "array([[b'hello', b'world'],\n",
            "       [b'hello2', b'world2']], dtype=object)>\n",
            "RANK -> array_str_rank2 -> tf.Tensor(2, shape=(), dtype=int32)\n"
          ]
        }
      ]
    },
    {
      "cell_type": "code",
      "source": [],
      "metadata": {
        "id": "ck1JTjpiggbo"
      },
      "execution_count": 46,
      "outputs": []
    },
    {
      "cell_type": "markdown",
      "source": [
        "Concept of Shape\n",
        "Shape is the number of elements that exist in each dimension e.g. shape of array_str_rank2 in above example is [2,2]"
      ],
      "metadata": {
        "id": "6_NzjcBae2hL"
      }
    },
    {
      "cell_type": "code",
      "source": [
        "array_str_rank3 = tf.Variable([[\"hello\", \"world\"],[\"hello2\", \"world2\"],[\"hello3\", \"world3\"]], tf.string)\n",
        "print(\"array_str_rank3 ->\", array_str_rank3)\n",
        "print(\"RANK -> array_str_rank3 ->\",tf.rank( array_str_rank3))\n",
        "print(\"SHAPE OF array_str_rank3 -> \", array_str_rank3.shape)"
      ],
      "metadata": {
        "id": "_e4vdBnccZ1s",
        "outputId": "7e606829-ad59-4006-ec52-ac9b6c0cd7f4",
        "colab": {
          "base_uri": "https://localhost:8080/"
        }
      },
      "execution_count": 47,
      "outputs": [
        {
          "output_type": "stream",
          "name": "stdout",
          "text": [
            "array_str_rank3 -> <tf.Variable 'Variable:0' shape=(3, 2) dtype=string, numpy=\n",
            "array([[b'hello', b'world'],\n",
            "       [b'hello2', b'world2'],\n",
            "       [b'hello3', b'world3']], dtype=object)>\n",
            "RANK -> array_str_rank3 -> tf.Tensor(2, shape=(), dtype=int32)\n",
            "SHAPE OF array_str_rank3 ->  (3, 2)\n"
          ]
        }
      ]
    },
    {
      "cell_type": "markdown",
      "source": [
        "Concept of reshape"
      ],
      "metadata": {
        "id": "lbEsyVtAkLq6"
      }
    },
    {
      "cell_type": "code",
      "source": [
        "tensor1 = tf.ones([1,2,3])\n",
        "tensor2 = tf.reshape(tensor1,[2,3,1])\n",
        "tensor3 = tf.reshape(tensor2, [3, -1])\n",
        "print(tensor1)\n",
        "print (tensor2)\n",
        "print(tensor3)"
      ],
      "metadata": {
        "id": "wxX3XsF6kNSG",
        "outputId": "6767b516-4cfc-47fa-c751-5d941d5ba147",
        "colab": {
          "base_uri": "https://localhost:8080/"
        }
      },
      "execution_count": 53,
      "outputs": [
        {
          "output_type": "stream",
          "name": "stdout",
          "text": [
            "tf.Tensor(\n",
            "[[[1. 1. 1.]\n",
            "  [1. 1. 1.]]], shape=(1, 2, 3), dtype=float32)\n",
            "tf.Tensor(\n",
            "[[[1.]\n",
            "  [1.]\n",
            "  [1.]]\n",
            "\n",
            " [[1.]\n",
            "  [1.]\n",
            "  [1.]]], shape=(2, 3, 1), dtype=float32)\n",
            "tf.Tensor(\n",
            "[[1. 1.]\n",
            " [1. 1.]\n",
            " [1. 1.]], shape=(3, 2), dtype=float32)\n"
          ]
        }
      ]
    },
    {
      "cell_type": "code",
      "source": [],
      "metadata": {
        "id": "eQLqOsBslpPy"
      },
      "execution_count": null,
      "outputs": []
    },
    {
      "cell_type": "code",
      "source": [],
      "metadata": {
        "id": "pMz9KCNglfeV"
      },
      "execution_count": null,
      "outputs": []
    },
    {
      "cell_type": "code",
      "source": [],
      "metadata": {
        "id": "tsccDxpClN3l"
      },
      "execution_count": null,
      "outputs": []
    },
    {
      "cell_type": "code",
      "source": [],
      "metadata": {
        "id": "WJ02VqBSk20V"
      },
      "execution_count": null,
      "outputs": []
    },
    {
      "cell_type": "code",
      "source": [],
      "metadata": {
        "id": "v-8HLEy4kyPn"
      },
      "execution_count": null,
      "outputs": []
    },
    {
      "cell_type": "code",
      "source": [],
      "metadata": {
        "id": "eBTfA-FpkXCh"
      },
      "execution_count": 48,
      "outputs": []
    },
    {
      "cell_type": "code",
      "source": [],
      "metadata": {
        "id": "lSMA98dgkSTP"
      },
      "execution_count": 48,
      "outputs": []
    },
    {
      "cell_type": "code",
      "source": [],
      "metadata": {
        "id": "6n4fpfhfhxAN"
      },
      "execution_count": 48,
      "outputs": []
    },
    {
      "cell_type": "code",
      "source": [],
      "metadata": {
        "id": "_Kl_FvY8fXyF"
      },
      "execution_count": 48,
      "outputs": []
    },
    {
      "cell_type": "code",
      "source": [],
      "metadata": {
        "id": "ezqYq3QSb5Vn"
      },
      "execution_count": 48,
      "outputs": []
    },
    {
      "cell_type": "code",
      "source": [],
      "metadata": {
        "id": "5YotiL3obwaT"
      },
      "execution_count": 48,
      "outputs": []
    },
    {
      "cell_type": "code",
      "source": [],
      "metadata": {
        "id": "-S9PtC2pbq9F"
      },
      "execution_count": 48,
      "outputs": []
    },
    {
      "cell_type": "code",
      "source": [],
      "metadata": {
        "id": "TDBZhHBubgPo"
      },
      "execution_count": 48,
      "outputs": []
    },
    {
      "cell_type": "code",
      "source": [],
      "metadata": {
        "id": "9dNPaV2nbUWL"
      },
      "execution_count": 48,
      "outputs": []
    },
    {
      "cell_type": "code",
      "source": [],
      "metadata": {
        "id": "B2j808aobPtZ"
      },
      "execution_count": 48,
      "outputs": []
    },
    {
      "cell_type": "code",
      "source": [],
      "metadata": {
        "id": "2CCILrKObNX5"
      },
      "execution_count": 48,
      "outputs": []
    },
    {
      "cell_type": "code",
      "source": [],
      "metadata": {
        "id": "GHN7-LjcZrbb"
      },
      "execution_count": 48,
      "outputs": []
    },
    {
      "cell_type": "code",
      "source": [],
      "metadata": {
        "id": "J8j-xdrKZZE9"
      },
      "execution_count": 48,
      "outputs": []
    },
    {
      "cell_type": "code",
      "source": [],
      "metadata": {
        "id": "zjPCQ9i2ZUdn"
      },
      "execution_count": 48,
      "outputs": []
    },
    {
      "cell_type": "code",
      "source": [],
      "metadata": {
        "id": "Q4e_UzE2ZL7E"
      },
      "execution_count": 48,
      "outputs": []
    },
    {
      "cell_type": "code",
      "source": [],
      "metadata": {
        "id": "K-FnZC7fZBgm"
      },
      "execution_count": 48,
      "outputs": []
    }
  ]
}